{
 "cells": [
  {
   "cell_type": "markdown",
   "metadata": {},
   "source": [
    "# Deliverable 3. Create a Travel Itinerary Map.\n",
    "----\n",
    "1. Import the vacation CSV file. \n",
    "2. From the map above with pick 4 cities that are in close proximity (on the same continent) that the customer would travel to and create a directions layer map.\n",
    "3. For the \"travel_mode\" use either \"DRIVING\", \"BICYCLING\", or \"WALKING\".\n",
    "4. Take a screenshot of the route and save it. \n",
    "5. Then create a marker layer for the four cities. Each city will should have a pop-up marker that contains\n",
    "    - The hotel name\n",
    "    - The city\n",
    "    - The country\n",
    "    - The current weather description and the maximum temperature\n",
    "---"
   ]
  },
  {
   "cell_type": "markdown",
   "metadata": {},
   "source": [
    "## Make sure the initial dependencies and the Google API key are imported."
   ]
  },
  {
   "cell_type": "code",
   "execution_count": 1,
   "metadata": {},
   "outputs": [],
   "source": [
    "# Dependencies and Setup\n",
    "import pandas as pd\n",
    "import numpy as np\n",
    "import matplotlib.pyplot as plt\n",
    "import gmaps\n",
    "import gmaps.datasets\n",
    "import requests\n",
    "\n",
    "# Import API key\n",
    "from config import weather_api_key"
   ]
  },
  {
   "cell_type": "code",
   "execution_count": 2,
   "metadata": {},
   "outputs": [],
   "source": [
    "# Configure gmaps\n",
    "gmaps.configure(api_key=weather_api_key)"
   ]
  },
  {
   "cell_type": "markdown",
   "metadata": {},
   "source": [
    "## From your `Vacation_Search` folder from Deliverable 2, import the `WeatherPy_vacation.csv` file as a DataFrame named `vacation_df`"
   ]
  },
  {
   "cell_type": "code",
   "execution_count": 3,
   "metadata": {},
   "outputs": [
    {
     "data": {
      "text/html": [
       "<div>\n",
       "<style scoped>\n",
       "    .dataframe tbody tr th:only-of-type {\n",
       "        vertical-align: middle;\n",
       "    }\n",
       "\n",
       "    .dataframe tbody tr th {\n",
       "        vertical-align: top;\n",
       "    }\n",
       "\n",
       "    .dataframe thead th {\n",
       "        text-align: right;\n",
       "    }\n",
       "</style>\n",
       "<table border=\"1\" class=\"dataframe\">\n",
       "  <thead>\n",
       "    <tr style=\"text-align: right;\">\n",
       "      <th></th>\n",
       "      <th>City_ID</th>\n",
       "      <th>City</th>\n",
       "      <th>Country</th>\n",
       "      <th>Max Temp</th>\n",
       "      <th>Current Description</th>\n",
       "      <th>Lat</th>\n",
       "      <th>Lng</th>\n",
       "      <th>Hotel Name</th>\n",
       "    </tr>\n",
       "  </thead>\n",
       "  <tbody>\n",
       "    <tr>\n",
       "      <th>0</th>\n",
       "      <td>622</td>\n",
       "      <td>Bar Harbor</td>\n",
       "      <td>US</td>\n",
       "      <td>75.99</td>\n",
       "      <td>clear sky</td>\n",
       "      <td>44.39</td>\n",
       "      <td>-68.20</td>\n",
       "      <td>Atlantic Oceanside Hotel &amp; Event Center</td>\n",
       "    </tr>\n",
       "    <tr>\n",
       "      <th>1</th>\n",
       "      <td>144</td>\n",
       "      <td>Bethel</td>\n",
       "      <td>US</td>\n",
       "      <td>77.00</td>\n",
       "      <td>clear sky</td>\n",
       "      <td>41.37</td>\n",
       "      <td>-73.41</td>\n",
       "      <td>Courtyard by Marriott Danbury</td>\n",
       "    </tr>\n",
       "    <tr>\n",
       "      <th>2</th>\n",
       "      <td>439</td>\n",
       "      <td>Brigantine</td>\n",
       "      <td>US</td>\n",
       "      <td>86.00</td>\n",
       "      <td>scattered clouds</td>\n",
       "      <td>39.41</td>\n",
       "      <td>-74.36</td>\n",
       "      <td>Legacy Vacation Resort Brigantine Beach</td>\n",
       "    </tr>\n",
       "    <tr>\n",
       "      <th>3</th>\n",
       "      <td>179</td>\n",
       "      <td>Broome</td>\n",
       "      <td>US</td>\n",
       "      <td>71.01</td>\n",
       "      <td>clear sky</td>\n",
       "      <td>42.25</td>\n",
       "      <td>-75.83</td>\n",
       "      <td>Chenango Valley State Park</td>\n",
       "    </tr>\n",
       "    <tr>\n",
       "      <th>4</th>\n",
       "      <td>604</td>\n",
       "      <td>Benguela</td>\n",
       "      <td>AO</td>\n",
       "      <td>78.80</td>\n",
       "      <td>few clouds</td>\n",
       "      <td>-12.58</td>\n",
       "      <td>13.41</td>\n",
       "      <td>Hotel Praia Morena</td>\n",
       "    </tr>\n",
       "  </tbody>\n",
       "</table>\n",
       "</div>"
      ],
      "text/plain": [
       "   City_ID        City Country  Max Temp Current Description    Lat    Lng  \\\n",
       "0      622  Bar Harbor      US     75.99           clear sky  44.39 -68.20   \n",
       "1      144      Bethel      US     77.00           clear sky  41.37 -73.41   \n",
       "2      439  Brigantine      US     86.00    scattered clouds  39.41 -74.36   \n",
       "3      179      Broome      US     71.01           clear sky  42.25 -75.83   \n",
       "4      604    Benguela      AO     78.80          few clouds -12.58  13.41   \n",
       "\n",
       "                                Hotel Name  \n",
       "0  Atlantic Oceanside Hotel & Event Center  \n",
       "1            Courtyard by Marriott Danbury  \n",
       "2  Legacy Vacation Resort Brigantine Beach  \n",
       "3               Chenango Valley State Park  \n",
       "4                       Hotel Praia Morena  "
      ]
     },
     "execution_count": 3,
     "metadata": {},
     "output_type": "execute_result"
    }
   ],
   "source": [
    "# Read the WeatherPy_vacation.csv into a DataFrame\n",
    "# file_path = \"../weather_database/WeatherPy_database.csv\"\n",
    "vacation_df = pd.read_csv(\"WeatherPy_vacation-backup.csv\")\n",
    "vacation_df.head()\n",
    "\n",
    "# Display sample data\n",
    "vacation_df.head()"
   ]
  },
  {
   "cell_type": "markdown",
   "metadata": {},
   "source": [
    "**Note:** If the resulting DataFrame is empty, uncomment the following code to load sample data into the `clean_hotel_df`."
   ]
  },
  {
   "cell_type": "code",
   "execution_count": 4,
   "metadata": {},
   "outputs": [],
   "source": [
    "# In case of an empty DataFrame, load the sample data provided\n",
    "# clean_hotel_df = pd.read_csv(\"WeatherPy_vacation-backup.csv\")\n",
    "# clean_hotel_df.head(10)"
   ]
  },
  {
   "cell_type": "markdown",
   "metadata": {
    "tags": []
   },
   "source": [
    "## In this step, you will set-up the pop-up markers. Review the code to create a marker layer map of the vacation search results. This code is the same as in Deliverable 2."
   ]
  },
  {
   "cell_type": "code",
   "execution_count": 5,
   "metadata": {},
   "outputs": [],
   "source": [
    "# Review the formatting template\n",
    "info_box_template = \"\"\"\n",
    "<dl>\n",
    "<dt>Hotel Name</dt><dd>{Hotel Name}</dd>\n",
    "<dt>City</dt><dd>{City}</dd>\n",
    "<dt>Country</dt><dd>{Country}</dd>\n",
    "<dt>Current Weather</dt><dd>{Current Description} and {Max Temp} °F</dd>\n",
    "</dl>\n",
    "\"\"\"\n",
    "\n",
    "# Get the data from each row and add it to the formatting template and store the data in a list\n",
    "hotel_info = [info_box_template.format(**row) for index, row in vacation_df.iterrows()]\n",
    "\n",
    "# Get the latitude and longitude from each row and store in a new DataFrame.\n",
    "locations = vacation_df[[\"Lat\", \"Lng\"]]"
   ]
  },
  {
   "cell_type": "code",
   "execution_count": 6,
   "metadata": {},
   "outputs": [
    {
     "data": {
      "text/html": [
       "<div>\n",
       "<style scoped>\n",
       "    .dataframe tbody tr th:only-of-type {\n",
       "        vertical-align: middle;\n",
       "    }\n",
       "\n",
       "    .dataframe tbody tr th {\n",
       "        vertical-align: top;\n",
       "    }\n",
       "\n",
       "    .dataframe thead th {\n",
       "        text-align: right;\n",
       "    }\n",
       "</style>\n",
       "<table border=\"1\" class=\"dataframe\">\n",
       "  <thead>\n",
       "    <tr style=\"text-align: right;\">\n",
       "      <th></th>\n",
       "      <th>Lat</th>\n",
       "      <th>Lng</th>\n",
       "    </tr>\n",
       "  </thead>\n",
       "  <tbody>\n",
       "    <tr>\n",
       "      <th>0</th>\n",
       "      <td>44.39</td>\n",
       "      <td>-68.20</td>\n",
       "    </tr>\n",
       "    <tr>\n",
       "      <th>1</th>\n",
       "      <td>41.37</td>\n",
       "      <td>-73.41</td>\n",
       "    </tr>\n",
       "    <tr>\n",
       "      <th>2</th>\n",
       "      <td>39.41</td>\n",
       "      <td>-74.36</td>\n",
       "    </tr>\n",
       "    <tr>\n",
       "      <th>3</th>\n",
       "      <td>42.25</td>\n",
       "      <td>-75.83</td>\n",
       "    </tr>\n",
       "    <tr>\n",
       "      <th>4</th>\n",
       "      <td>-12.58</td>\n",
       "      <td>13.41</td>\n",
       "    </tr>\n",
       "    <tr>\n",
       "      <th>5</th>\n",
       "      <td>-9.54</td>\n",
       "      <td>16.34</td>\n",
       "    </tr>\n",
       "    <tr>\n",
       "      <th>6</th>\n",
       "      <td>-15.20</td>\n",
       "      <td>12.15</td>\n",
       "    </tr>\n",
       "    <tr>\n",
       "      <th>7</th>\n",
       "      <td>-9.66</td>\n",
       "      <td>20.39</td>\n",
       "    </tr>\n",
       "    <tr>\n",
       "      <th>8</th>\n",
       "      <td>-6.13</td>\n",
       "      <td>12.37</td>\n",
       "    </tr>\n",
       "    <tr>\n",
       "      <th>9</th>\n",
       "      <td>12.52</td>\n",
       "      <td>-70.03</td>\n",
       "    </tr>\n",
       "  </tbody>\n",
       "</table>\n",
       "</div>"
      ],
      "text/plain": [
       "     Lat    Lng\n",
       "0  44.39 -68.20\n",
       "1  41.37 -73.41\n",
       "2  39.41 -74.36\n",
       "3  42.25 -75.83\n",
       "4 -12.58  13.41\n",
       "5  -9.54  16.34\n",
       "6 -15.20  12.15\n",
       "7  -9.66  20.39\n",
       "8  -6.13  12.37\n",
       "9  12.52 -70.03"
      ]
     },
     "execution_count": 6,
     "metadata": {},
     "output_type": "execute_result"
    }
   ],
   "source": [
    "# Display sample data\n",
    "locations.head(10)"
   ]
  },
  {
   "cell_type": "code",
   "execution_count": 7,
   "metadata": {},
   "outputs": [
    {
     "data": {
      "application/vnd.jupyter.widget-view+json": {
       "model_id": "b1680d470d994ab0b87434cb969aeabc",
       "version_major": 2,
       "version_minor": 0
      },
      "text/plain": [
       "Figure(layout=FigureLayout(height='420px'))"
      ]
     },
     "metadata": {},
     "output_type": "display_data"
    }
   ],
   "source": [
    "# Add a marker layer for each city to the map.\n",
    "marker_layer = gmaps.marker_layer(locations, info_box_content=hotel_info)\n",
    "fig = gmaps.figure()\n",
    "fig.add_layer(marker_layer)\n",
    "\n",
    "# Display the figure\n",
    "fig"
   ]
  },
  {
   "cell_type": "markdown",
   "metadata": {},
   "source": [
    "## From the vacation search map, *choose four cities* that a customer might want to visit. They should be close together and in the same country."
   ]
  },
  {
   "cell_type": "code",
   "execution_count": 8,
   "metadata": {},
   "outputs": [],
   "source": [
    "# Create DataFrames for each city by filtering the 'vacation_df' using the loc method. \n",
    "# The starting and ending city should be the same city.\n",
    "vacation_start = vacation_df.loc[vacation_df[\"City\"] == \"Georgetown\"]\n",
    "vacation_end = vacation_df.loc[vacation_df[\"City\"] == \"Bethel\"]\n",
    "vacation_stop1 = vacation_df.loc[vacation_df[\"City\"] == \"Brigantine\"]\n",
    "vacation_stop2 = vacation_df.loc[vacation_df[\"City\"] == \"Broome\"] \n",
    "vacation_stop3 = vacation_df.loc[vacation_df[\"City\"] == \"Bar Harbor\"] "
   ]
  },
  {
   "cell_type": "code",
   "execution_count": 9,
   "metadata": {},
   "outputs": [
    {
     "data": {
      "text/html": [
       "<div>\n",
       "<style scoped>\n",
       "    .dataframe tbody tr th:only-of-type {\n",
       "        vertical-align: middle;\n",
       "    }\n",
       "\n",
       "    .dataframe tbody tr th {\n",
       "        vertical-align: top;\n",
       "    }\n",
       "\n",
       "    .dataframe thead th {\n",
       "        text-align: right;\n",
       "    }\n",
       "</style>\n",
       "<table border=\"1\" class=\"dataframe\">\n",
       "  <thead>\n",
       "    <tr style=\"text-align: right;\">\n",
       "      <th></th>\n",
       "      <th>City_ID</th>\n",
       "      <th>City</th>\n",
       "      <th>Country</th>\n",
       "      <th>Max Temp</th>\n",
       "      <th>Current Description</th>\n",
       "      <th>Lat</th>\n",
       "      <th>Lng</th>\n",
       "      <th>Hotel Name</th>\n",
       "    </tr>\n",
       "  </thead>\n",
       "  <tbody>\n",
       "    <tr>\n",
       "      <th>201</th>\n",
       "      <td>218</td>\n",
       "      <td>Georgetown</td>\n",
       "      <td>MY</td>\n",
       "      <td>84.2</td>\n",
       "      <td>few clouds</td>\n",
       "      <td>5.41</td>\n",
       "      <td>100.34</td>\n",
       "      <td>Cititel Penang</td>\n",
       "    </tr>\n",
       "  </tbody>\n",
       "</table>\n",
       "</div>"
      ],
      "text/plain": [
       "     City_ID        City Country  Max Temp Current Description   Lat     Lng  \\\n",
       "201      218  Georgetown      MY      84.2          few clouds  5.41  100.34   \n",
       "\n",
       "         Hotel Name  \n",
       "201  Cititel Penang  "
      ]
     },
     "execution_count": 9,
     "metadata": {},
     "output_type": "execute_result"
    }
   ],
   "source": [
    "vacation_start"
   ]
  },
  {
   "cell_type": "code",
   "execution_count": 10,
   "metadata": {
    "scrolled": true
   },
   "outputs": [
    {
     "data": {
      "text/plain": [
       "array(['Bar Harbor', 'Bethel', 'Brigantine', 'Broome', 'Benguela',\n",
       "       'Malanje', 'Namibe', 'Saurimo', 'Soyo', 'Oranjestad', 'Bathsheba',\n",
       "       'Trinidad', 'Alenquer', 'Aracati', 'Arraial Do Cabo',\n",
       "       'Barao De Melgaco', 'Belmonte', 'Caravelas', 'Cardoso',\n",
       "       'Carutapera', 'Castro', 'Imbituba', 'Itarema', 'Itiuba',\n",
       "       'Januaria', 'Maragogi', 'Maua', 'Moju', 'Natal', 'Pauini',\n",
       "       'Portel', 'Prado', 'Rosario Oeste', 'Salinopolis', 'Santarem',\n",
       "       'Santo Antonio Da Platina', 'Sao Francisco', 'Terra Santa',\n",
       "       'Touros', 'Trairi', 'Tucurui', 'Cambridge', 'Torbay', 'Loubomo',\n",
       "       'Sibiti', 'Tabou', 'Mbalmayo', 'Aksu', 'Bozhou', 'Guilin', 'Hami',\n",
       "       'Hohhot', 'Jinxiang', 'Kashi', 'Korla', 'Lubu', 'Luoyang',\n",
       "       'Mingguang', 'Mingshui', 'Shache', 'Tanggu', 'Wuan', 'Wuwei',\n",
       "       'Xiongzhou', 'Xuanhua', 'Zhangye', 'Zhuhai', 'Cartagena',\n",
       "       'El Penon', 'Padilla', 'Villagarzon', 'Nicoya', 'Manzanillo',\n",
       "       'Sao Filipe', 'Steinbach', 'Bani', 'Muisne', 'Puerto Ayora',\n",
       "       'Haapsalu', 'Kuressaare', 'La Rioja', 'Mao', 'Kuopio', 'Parainen',\n",
       "       'Havre', 'Saint-Dizier', 'Saint-Francois', 'Semme', 'Barrhead',\n",
       "       'Liverpool', 'Margate', 'Northam', 'Scarborough', 'Warrington',\n",
       "       'Grenville', 'Cayenne', 'Anloga', 'Tema', 'Boke', 'Khalki',\n",
       "       'Bubaque', 'Victoria', 'Azacualpa', 'Bolcske', 'Szihalom',\n",
       "       'Ambulu', 'Atambua', 'Banda Aceh', 'Banjar', 'Bengkulu',\n",
       "       'Gondanglegi', 'Japura', 'Katobu', 'Kisaran', 'Kupang', 'Labuhan',\n",
       "       'Manokwari', 'Meulaboh', 'Paciran', 'Padang', 'Poso', 'Pringsewu',\n",
       "       'Sabang', 'Sibolga', 'Simpang', 'Ashqelon', 'Gat', 'Dwarka',\n",
       "       'Hyderabad', 'Itanagar', 'Mangrol', 'Manohar Thana', 'Pondicherry',\n",
       "       'Porbandar', 'Port Blair', 'Puri', 'Tura', 'Chabahar', 'Langarud',\n",
       "       'Bisignano', 'Lipari', 'Marsala', 'Vasto', 'Lucea', 'Hirara',\n",
       "       'Ishigaki', 'Katsuura', 'Muroto', 'Nago', 'Naze', 'Nichinan',\n",
       "       'Sakaiminato', 'Shimoda', 'Tomigusuku', 'Tottori', 'Butaritari',\n",
       "       'Kijang', 'West Bay', 'Kuryk', 'Shu', 'Galle', 'Kalmunai',\n",
       "       'Matara', 'Monrovia', 'Palanga', 'Valdemarpils', 'Benghazi',\n",
       "       'Sabratah', 'Suluq', 'Ampanihy', 'Antsohihy', 'Mananjary',\n",
       "       'Miandrivazo', 'Nosy Varika', 'Kanbe', 'Hovd', 'Ulaangom',\n",
       "       'Nouadhibou', 'Nouakchott', 'Sliema', 'Bambous Virieux',\n",
       "       'Grand Gaube', 'Mahebourg', 'Quatre Cocos', 'Souillac',\n",
       "       'Hithadhoo', 'Kulhudhuffushi', 'Muli', 'Acapulco',\n",
       "       'Cabo San Lucas', 'Casas Grandes', 'Cozumel', 'Escuinapa',\n",
       "       'Frontera', 'Ojinaga', 'Pochutla', 'Progreso', 'San Patricio',\n",
       "       'Soto La Marina', 'Tomatlan', 'Bintulu', 'Georgetown', 'Mersing',\n",
       "       'Angoche', 'Beira', 'Maputo', 'Nacala', 'Nampula', 'Poum', 'Vao',\n",
       "       'Ikom', 'Raudeberg', 'Risor', 'Alofi', 'Salalah', 'Sur',\n",
       "       'Huicungo', 'Satipo', 'Atuona', 'Faanui', 'Rikitea', 'Tautira',\n",
       "       'Teahupoo', 'Tiarei', 'Kandrian', 'Kavieng', 'Lorengau',\n",
       "       'Namatanai', 'Samarai', 'Dingle', 'Marawi', 'Patawag',\n",
       "       'Pundaguitan', 'San Pedro', 'Sulangan', 'Keti Bandar', 'Krotoszyn',\n",
       "       'Suwalki', 'Cascais', 'Lata', 'Mata', 'Ponta Do Sol',\n",
       "       'Porto Santo', 'Praia Da Vitoria', 'Fuerte Olimpo',\n",
       "       'Saint-Philippe', 'Saint-Pierre', 'Asau', 'Mihail Kogalniceanu',\n",
       "       'Sfantu Gheorghe', 'Angarsk', 'Chekhov', 'Khabary', 'Khatanga',\n",
       "       'Klyuchi', 'Kostomuksha', 'Luga', 'Nikolskoye', 'Novorzhev',\n",
       "       'Faya', 'Auki', 'Buala', 'Kutum', 'Lulea', 'Mariestad', 'Vetlanda',\n",
       "       'Bonthe', 'Dakar', 'Diofior', 'Oussouye', 'Bandarbeyla', 'Hobyo',\n",
       "       'Mogadishu', 'Odweyne', 'Tha Rua', 'Vaini', 'Bucak', 'Eregli',\n",
       "       'Erzin', 'Mudanya', 'Chake Chake', 'Kibaya', 'Kibondo', 'Mtwara',\n",
       "       'Berezyne', 'Komsomolsk', 'Strabychovo', 'Busia', 'Kaabong',\n",
       "       'Burke', 'Clarksburg', 'Corpus Christi', 'Duncanville',\n",
       "       'Ewa Beach', 'Gainesville', 'Hamilton', 'Havelock', 'Hilo',\n",
       "       'Jamestown', 'Jefferson City', 'Kahului', 'Kapaa', 'Lakeside',\n",
       "       'Las Vegas', 'Laurinburg', 'Leisure City', 'Lewiston', 'Lincoln',\n",
       "       'Lufkin', 'Makakilo City', 'Marshalltown', 'Meadow Lake',\n",
       "       'Middle Island', 'Middlebury', 'Morehead', 'Mount Pleasant',\n",
       "       'Nassau', 'Palmer', 'Piney Green', 'Raymondville', 'Rincon',\n",
       "       'Roma', 'Saint George', 'Sioux Falls', 'Springdale', 'Statesville',\n",
       "       'Tifton', 'Tooele', 'Westport', 'Calabozo', 'Caraballeda',\n",
       "       'Guanare', 'La Asuncion', 'Santa Teresa', 'Villa Bruzual',\n",
       "       'Da Nang', 'Turan', 'Isangel', 'Lakatoro', 'Luganville', 'Sayyan',\n",
       "       'Dzaoudzi', 'Bredasdorp', 'East London', 'Hermanus',\n",
       "       'Kruisfontein', 'Plettenberg Bay', 'Port Alfred', 'Port Elizabeth',\n",
       "       'Richards Bay', 'Kalabo', 'Senanga'], dtype=object)"
      ]
     },
     "execution_count": 10,
     "metadata": {},
     "output_type": "execute_result"
    }
   ],
   "source": [
    "vacation_df[\"City\"].unique()"
   ]
  },
  {
   "cell_type": "markdown",
   "metadata": {},
   "source": [
    "## Use the `to_numpy()` function and list indexing to write code to retrieve the latitude-longitude pairs as tuples from each city DataFrame."
   ]
  },
  {
   "cell_type": "code",
   "execution_count": 16,
   "metadata": {},
   "outputs": [],
   "source": [
    "# Get the latitude-longitude pairs as tuples from each city DataFrame using the to_numpy function and list indexing.\n",
    "start = vacation_start[\"Lat\"].to_numpy()[0]\n",
    "vacation_start['Lng'].to_numpy()[0]\n",
    "\n",
    "end = vacation_end[\"Lat\"].to_numpy()[0]\n",
    "vacation_end['Lng'].to_numpy()[0]\n",
    "\n",
    "stop1 = vacation_stop1[\"Lat\"].to_numpy()[0]\n",
    "stop1 = vacation_stop1[\"Lng\"].to_numpy()[0]\n",
    "\n",
    "stop2 = vacation_stop2[\"Lat\"].to_numpy()[0]\n",
    "stop2 = vacation_stop2[\"Lng\"].to_numpy()[0]\n",
    "\n",
    "stop3 = vacation_stop3[\"Lat\"].to_numpy()[0]\n",
    "stop3 = vacation_stop3[\"Lng\"].to_numpy()[0]\n",
    "\n"
   ]
  },
  {
   "cell_type": "code",
   "execution_count": 15,
   "metadata": {},
   "outputs": [
    {
     "data": {
      "text/plain": [
       "5.41"
      ]
     },
     "execution_count": 15,
     "metadata": {},
     "output_type": "execute_result"
    }
   ],
   "source": [
    "start"
   ]
  },
  {
   "cell_type": "markdown",
   "metadata": {},
   "source": [
    "## Use the [gmaps documentation](https://jupyter-gmaps.readthedocs.io/en/latest/tutorial.html#directions-layer) to create a directions layer map using the variables from the previous step. Where the starting and ending city are the same city, the `waypoints` are the three other cities, and the `travel_mode` is either `\"DRIVING\"`, `\"BICYCLING\"`, or `\"WALKING\"`."
   ]
  },
  {
   "cell_type": "code",
   "execution_count": 17,
   "metadata": {
    "tags": []
   },
   "outputs": [
    {
     "ename": "SyntaxError",
     "evalue": "invalid syntax (2110074325.py, line 6)",
     "output_type": "error",
     "traceback": [
      "\u001b[1;36m  Input \u001b[1;32mIn [17]\u001b[1;36m\u001b[0m\n\u001b[1;33m    BarHarbor_Broome_BarHarbor = gmaps.directions_layer(Bar Harbor, Broome, Bar Harbor, waypoints=[Broome], travel_mode = 'DRIVING' or 'BICYCLING' OR 'WALKING')\u001b[0m\n\u001b[1;37m                                                            ^\u001b[0m\n\u001b[1;31mSyntaxError\u001b[0m\u001b[1;31m:\u001b[0m invalid syntax\n"
     ]
    }
   ],
   "source": [
    "# Define a new figure object\n",
    "fig = gmaps.figure()\n",
    "\n",
    "# Create a direction layer map using the start and end latitude-longitude pairs, and stop1, stop2, and stop3 as the waypoints.\n",
    "# The travel_mode should be \"DRIVING\", \"BICYCLING\", or \"WALKING\".\n",
    "BarHarbor_Broome_BarHarbor = gmaps.directions_layer(Bar Harbor, Broome, Bar Harbor, waypoints=[Broome], travel_mode = 'DRIVING' or 'BICYCLING' OR 'WALKING')\n",
    "\n",
    "# Add the layer to the map\n",
    "fig.add_layer(BarHarbor_Broome_BarHarbor)\n",
    "\n",
    "# Display the map\n",
    "\n",
    "fig"
   ]
  },
  {
   "cell_type": "markdown",
   "metadata": {},
   "source": [
    "## Use the provided `concat()` function code snippet to combine the four separate city DataFrames into one DataFrame."
   ]
  },
  {
   "cell_type": "code",
   "execution_count": null,
   "metadata": {},
   "outputs": [],
   "source": [
    "#  Combine the four city DataFrames into one DataFrame using the concat() function.\n",
    "itinerary_df = pd.concat(\n",
    "    [\n",
    "        vacation_start,\n",
    "        vacation_stop1,\n",
    "        vacation_stop2,\n",
    "        vacation_stop3\n",
    "    ],\n",
    "    ignore_index = True\n",
    ")\n",
    "\n",
    "# Display sample data\n",
    "itinerary_df"
   ]
  },
  {
   "cell_type": "markdown",
   "metadata": {},
   "source": [
    "## Refactor the code from Step 6 to create a new marker layer map of the cities on the travel route."
   ]
  },
  {
   "cell_type": "code",
   "execution_count": null,
   "metadata": {},
   "outputs": [],
   "source": [
    "# Review the formatting template\n",
    "info_box_template = \"\"\"\n",
    "<dl>\n",
    "<dt>Hotel Name</dt><dd>{Hotel Name}</dd>\n",
    "<dt>City</dt><dd>{City}</dd>\n",
    "<dt>Country</dt><dd>{Country}</dd>\n",
    "<dt>Current Weather</dt><dd>{Current Description} and {Max Temp} °F</dd>\n",
    "</dl>\n",
    "\"\"\"\n",
    "\n",
    "# Get the data from each row and add it to the formatting template and store the data in a list\n",
    "hotel_info = # YOUR CODE HERE\n",
    "\n",
    "# Get the latitude and longitude from each row and store in a new DataFrame.\n",
    "locations = # YOUR CODE HERE"
   ]
  },
  {
   "cell_type": "code",
   "execution_count": null,
   "metadata": {},
   "outputs": [],
   "source": [
    "# Add a marker layer for each city to the map.\n",
    "marker_layer = # YOUR CODE HERE\n",
    "\n",
    "# Define a new figure object\n",
    "fig = # YOUR CODE HERE\n",
    "\n",
    "# Add the layer to the map\n",
    "# YOUR CODE HERE\n",
    "\n",
    "# Display the map\n",
    "# YOUR CODE HERE"
   ]
  },
  {
   "cell_type": "code",
   "execution_count": null,
   "metadata": {},
   "outputs": [],
   "source": []
  }
 ],
 "metadata": {
  "kernelspec": {
   "display_name": "Python 3 (ipykernel)",
   "language": "python",
   "name": "python3"
  },
  "language_info": {
   "codemirror_mode": {
    "name": "ipython",
    "version": 3
   },
   "file_extension": ".py",
   "mimetype": "text/x-python",
   "name": "python",
   "nbconvert_exporter": "python",
   "pygments_lexer": "ipython3",
   "version": "3.9.13"
  },
  "latex_envs": {
   "LaTeX_envs_menu_present": true,
   "autoclose": false,
   "autocomplete": true,
   "bibliofile": "biblio.bib",
   "cite_by": "apalike",
   "current_citInitial": 1,
   "eqLabelWithNumbers": true,
   "eqNumInitial": 1,
   "hotkeys": {
    "equation": "Ctrl-E",
    "itemize": "Ctrl-I"
   },
   "labels_anchors": false,
   "latex_user_defs": false,
   "report_style_numbering": false,
   "user_envs_cfg": false
  }
 },
 "nbformat": 4,
 "nbformat_minor": 4
}
